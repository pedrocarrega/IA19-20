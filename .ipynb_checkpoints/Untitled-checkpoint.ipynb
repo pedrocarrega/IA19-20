{
 "cells": [
  {
   "cell_type": "markdown",
   "metadata": {},
   "source": [
    "# Introdução ao Jogo do Pacman e ao projecto de IIA"
   ]
  },
  {
   "cell_type": "markdown",
   "metadata": {},
   "source": [
    "## Regras do jogo\n",
    "\n",
    "### Obectivos\n",
    "\n",
    "#### Objectivos do Pacman\n",
    "O objectivo do Pacman é comer as pastilhas todas e obter a maior pontuação possível, tendo que fugir dos fantasmas. Os fantasmas começam sempre na base.\n",
    "\n",
    "#### Objectivos dos fantasmas\n",
    "Os fantasmas, por sua vez, pretendem apanhar o Pacman e querem que ele tenha o menor score possível, mesmo se não o conseguirem vencer.\n",
    "\n",
    "### Ordem de execução e acções possíveis\n",
    "Em cada instante, todos os agentes, por ordem, decidem e executam as respectivas acções. O Pacman é o primeiro a executar a sua acção: mover-se 1 unidade numa das 4 direções ortogonais desde que não choque com um dos obstáculos (velocidade de 1). A seguir um por um os fantasmas executam as suas acções. Notem que um fantasma, se possível, nunca pode voltar para trás, tem sempre que manter a mesma direcção ao longo de um corredor e pode mudar de direcção numa encruzilhada. Se chegar ao fundo de um beco sem saída, o fantasma é obrigado a inverter a direcção. \n",
    "\n",
    "### Efeito das superpastilhas\n",
    "Quando o Pacman come uma das super-pastilhas, os fantasmas ficam amedrontados e frágeis durante 40 instantes de tempo. Nesse período de tempo os fantasmas ficam vulneráveis e podem ser atacados e comidos pelo Pacman, regressado à base. Quando entram na base, perdem o medo e estão prontos para atacar o Pacman de novo. Quando estão sem medo, no modo normal, a velocidade dos fantasmas é igual à do Pacman (1), mas quando estão com medo, a velocidade é reduzida para metade (0.5).\n",
    "\n",
    "### Pontuação\n",
    "\n",
    "    Cada instante tem diminui a pontuação em 1 ponto.\n",
    "    Cada pastilha comida aumenta 10 pontos.\n",
    "    Cada super pastilha não vale pontos.\n",
    "    Quando come a última pastilha ganha 500 pontos e acaba o jogo, vencendo-o.\n",
    "    Se for comido por um fantasma perde 500 pontose acaba o jogo, perdendo-o.\n",
    "    Cada fantasma com medo que é comido vale 200 pontos."
   ]
  },
  {
   "cell_type": "markdown",
   "metadata": {},
   "source": [
    "## Testar o Jogo\n",
    "Para começar o ideal é jogarem manualmente o jogo e experimentar alguns dos parâmetros.\n",
    "Para isso podem executar o comando seguinte:"
   ]
  },
  {
   "cell_type": "code",
   "execution_count": 2,
   "metadata": {},
   "outputs": [
    {
     "name": "stdout",
     "output_type": "stream",
     "text": [
      "%%%%%%%%%%%%%%%%%%%%\n",
      "%o...%........%....%\n",
      "%.%%.%.%%%%%%.%.%%.%\n",
      "%.%..............%.%\n",
      "%.%.%%.%%  %%.%%.%.%\n",
      "%......%G  G%......%\n",
      "%.%.%%.%%%%%%.%%.%.%\n",
      "%.%..............%.%\n",
      "%.%%.%.%%%%%%.%.%%.%\n",
      "%....%...P....%...o%\n",
      "%%%%%%%%%%%%%%%%%%%%\n",
      "pacmanAgent= <multiAgents.AlfaBetaAgent object at 0x000001DF86770F98> ghostAgents= [<ghostAgents.RandomGhost object at 0x000001DF86770FD0>] display= <graphicsDisplay.PacmanGraphics object at 0x000001DF867865C0> quite= False\n",
      "Pacman emerges victorious! Score: 1290\n",
      "Average Score: 1290.0\n",
      "Scores:        1290.0\n",
      "Win Rate:      1/1 (1.00)\n",
      "Record:        Win\n"
     ]
    }
   ],
   "source": [
    "! python pacman.py  -p AlfaBetaAgent -k 1 --frameTime 1"
   ]
  },
  {
   "cell_type": "markdown",
   "metadata": {},
   "source": [
    "### Parâmetros\n",
    "    -l trickyClassic (layout escolhido trickClassic), por defeito é medium classic\n",
    "    \n",
    "    -k 2 (no máximo 2 fantasmas)\n",
    "    \n",
    "    -t (output em formato texto)\n",
    "    \n",
    "    -q   (Sem animação! null graphics object no display)\n",
    "    \n",
    "    --frameTime 0 (corresponde a animation off)\n",
    "    \n",
    "    --timeout  (tempo máximo que cada agente pode demorar num único jogo) Jogo ou jogada????? Parece que é jogo e jogada ao mesmo tempo.\n",
    "    Podemos ignorar?????? Vai complicar talvez porque teremos de entrar no code e perceber tuti..."
   ]
  },
  {
   "cell_type": "markdown",
   "metadata": {},
   "source": [
    "## Classe Game\n",
    "Os atributos da classe Game...\n",
    "\n",
    "    agentCrashed = False\n",
    "    agents = agents\n",
    "    display = display\n",
    "    rules = rules\n",
    "    startingIndex = startingIndex\n",
    "    gameOver = False\n",
    "    muteAgents = muteAgents\n",
    "    catchExceptions = catchExceptions\n",
    "    moveHistory = []\n",
    "    totalAgentTimes = [0 for agent in agents]\n",
    "    totalAgentTimeWarnings = [0 for agent in agents]\n",
    "    agentTimeout = False\n",
    "    agentOutput = [io.StringIO() for agent in agents]\n",
    "    state\n",
    "    \n"
   ]
  },
  {
   "cell_type": "markdown",
   "metadata": {},
   "source": [
    "## GLOBAIS\n",
    "(não aparecem nos parâmetros de entrada!)\n",
    "\n",
    "Não vamos mexer mas é bom saber onde estão!\n",
    "TIMEOUT onde? É preciso garantir que um novo layout não complica demais e põe em risco ultrapassar o tempo. Podemos dar um exemplo de um mundo máximo...\n",
    "Parece que há um único timeout que serve como limite de uma jogada e como limite do total de jogadas... Vamos entender melhor.\n",
    "\n",
    "### Mesmo globais\n",
    "\n",
    "    SCARED_TIME = 40    # Moves ghosts are scared\n",
    "\n",
    "    COLLISION_TOLERANCE = 0.7  # How close ghosts must be to Pacman to kill\n",
    "\n",
    "    TIME_PENALTY = 1  # Number of points lost each round\n",
    "\n",
    "### Globais mas pertencentes a classes\n",
    "\n",
    "    PACMAN_SPEED = 1   na classe PacmanRules em pacman.py\n",
    "\n",
    "    GHOST_SPEED  1.0     está na classe GhostRules em pacman.py\n",
    "\n",
    "Mas decresce para metade com o estado do fantasma com medo\n",
    "\n",
    "Como sabemos que está com medo?\n",
    "\n",
    "Em Game.state.data.agentStates[index do ghost] temos o estado do ghost respectivo\n",
    "Há um atributo que é o scaredTimer\n",
    "\n",
    "Tem que ser distinto para cada ghost porque eles podem regressar à base e ficarem sem medo. O tempo de medo não é global mas local\n",
    "\n",
    "Exemplo:\n",
    "```python\n",
    "ghostState = state.data.agentStates[ghostIndex]\n",
    "        speed = GhostRules.GHOST_SPEED\n",
    "        if ghostState.scaredTimer > 0:\n",
    "            speed /= 2.0\n",
    "```\n",
    "\n",
    "O fantasma ao fugir com medo pode tentar aproximar-se da base ou ao aperceber-se que o pacman está pronto a papar uma superpastilha pode tentar aproximar-se da base ao fugir se não estiver a uma distância adequada!!!!!"
   ]
  },
  {
   "cell_type": "markdown",
   "metadata": {},
   "source": [
    "## Layouts\n",
    "Existem vários ambientes do Pacman que podem utilizar e que podem ser visualizados em modo texto e em modo gráfico. Na verdade eles estão em ficheiros em modo texto (com a extensão .lay) e se quiserem podem criar layouts novos, em particular se quiserem testar a função de avaliação para cenários especificos.\n",
    "Os layouts que existem são:\n",
    "\n",
    "    capsuleClassic\n",
    "    contestClasic\n",
    "    mediumClassic\n",
    "    minimaxClassic\n",
    "    openClassic\n",
    "    originalClassic\n",
    "    powerClassic\n",
    "    smallClassic\n",
    "    testClassic\n",
    "    trappedClassic\n",
    "    trickyClassic\n",
    "    "
   ]
  },
  {
   "cell_type": "markdown",
   "metadata": {},
   "source": [
    "## Estado do Jogo Pacman\n",
    "O estado do jogo vai ser formado por um triplo que indica:\n",
    "   \n",
    "    to_move   - o jogador que vai jogar a seguir\n",
    "    board  - toda a informação sobre o jogo\n",
    "    extras - campo livre para poderem colocar a informação que acharem interessante para a construção da função de avaliação. Tem o valor None por defeito.\n",
    "    \n",
    "O estado é definido como um namedtuple no ficheiro *multiagents.py*\n",
    "\n",
    "```python\n",
    "ClassicPac = namedtuple('ClassicPac', 'to_move, board, extra',defaults=[None])\n",
    "\n",
    "```\n",
    "\n",
    "O campo to_move pode ter dois valores: 'Pacman' ou 'Ghosts' "
   ]
  },
  {
   "cell_type": "markdown",
   "metadata": {},
   "source": [
    "## Informação sobre o tabuleiro de jogo\n",
    "Toda a informação relevante sobre o jogo, i.e., sobre as pastilhas, as super-pastilhas, o estado do Pacman, dos fantasmas e o score está na representada na classe **GameState**, que se situa no ficheiro *pacman.py*.\n",
    "\n",
    "As instâncias de **GameState** são utilizados pelo próprio controlador do jogo para capturarem o estado actual do jogo e vai ser utilizado pelos agentes para raciocinarem acerca do jogo.\n",
    "\n",
    "A maior parte da informação está guardada num objecto da classe **GameStateData**. Recomenda-se que acedam aos dados através des métodos de leitura de dados (accessors) e não dirctamente aos atributos dos objectos **GameStateData**.\n"
   ]
  },
  {
   "cell_type": "markdown",
   "metadata": {},
   "source": [
    "\n",
    "\n",
    "## Tarefa 2\n",
    "Temos de ser capazes de recriar uma situação para teste... em que temos um certo layout, podemos manipular o scaredTime, as posições dos fantasmas, a posição do Pacman, o score, as pastilhas, as super-pastilhas, etc. etc.\n",
    "Temos de criar um certo estado que vamos depois encapsular e testar a função de avaliação para esse estado ou calcular para todas as acções possíveis do jogador O (Pacman) ou 1 (Fantasma)."
   ]
  },
  {
   "cell_type": "markdown",
   "metadata": {},
   "source": [
    " ## Tarefa 3\n",
    "Como é que vamos manter o mesmo algoritmo alfabeta para todos ao mesmo limite de profundidade?\n",
    "O método vai buscar a maior parte das coisas que vai buscar o python.py mas ignora o pacman e o fantasma (ficam em lista), temos de ter o **quite** ligado. Precisamos de uma lista de identificadores dos grupos (números), precisamos de uma lista de layouts. Nothing more.\n",
    "\n",
    " \n",
    "Só queremos player_1, player_2, etc.... por grupo...\n",
    "    ou -p numero_do_grupo.\n",
    "\n",
    "Nesse caso, invocamos sempre a mesma função com o número do grupo e o player é sempre o mesmo, o alfabeta a uma certa profundidade, a função de avaliação é que depende do número."
   ]
  },
  {
   "cell_type": "markdown",
   "metadata": {},
   "source": [
    "## Testar o replay\n",
    "\n",
    "Se quisermos fazer uma simulação de alguns jogos precisamos de fazer o replay. Para isso dava jeito termos as funções exactas.\n",
    "Podemos pedir pacman1  e  ghost1, só que elas terão que ser equivalentes, usar sempre o mesmo método alphabeta que nós podemos fazer a la pata: copy e paste."
   ]
  }
 ],
 "metadata": {
  "kernelspec": {
   "display_name": "Python 3",
   "language": "python",
   "name": "python3"
  },
  "language_info": {
   "codemirror_mode": {
    "name": "ipython",
    "version": 3
   },
   "file_extension": ".py",
   "mimetype": "text/x-python",
   "name": "python",
   "nbconvert_exporter": "python",
   "pygments_lexer": "ipython3",
   "version": "3.7.0"
  }
 },
 "nbformat": 4,
 "nbformat_minor": 2
}
