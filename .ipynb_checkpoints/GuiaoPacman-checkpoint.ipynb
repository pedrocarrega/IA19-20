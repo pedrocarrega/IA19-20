{
 "cells": [
  {
   "cell_type": "markdown",
   "metadata": {},
   "source": [
    "# Pacman contra fantasma solitário\n",
    "## Projecto de IIA edição de 2019/20\n",
    "### Deadline: 12 de Dezembro de 2019 (1 minuto antes das 24h)"
   ]
  },
  {
   "cell_type": "markdown",
   "metadata": {},
   "source": [
    "![figura](pacman_game.gif)"
   ]
  },
  {
   "cell_type": "markdown",
   "metadata": {},
   "source": [
    "## Regras do jogo clássico Pacman\n",
    "\n",
    "### Objectivos\n",
    "\n",
    "#### Objectivos do Pacman\n",
    "O objectivo do Pacman é não ser capturado pelos fantasmas comer as pastilhas todas e obter a maior pontuação possível, tendo que fugir dos fantasmas. Os fantasmas começam sempre na base.\n",
    "\n",
    "#### Objectivos dos fantasmas\n",
    "Os fantasmas, por sua vez, pretendem apanhar o Pacman e querem que ele tenha o menor score possível, mesmo se não o conseguirem vencer.\n",
    "\n",
    "### Ordem de execução e acções possíveis\n",
    "Em cada instante, todos os agentes, por ordem, decidem e executam as respectivas acções. O Pacman é o primeiro a executar a sua acção e os fantasmas jogam a seguir, um após o outro\n",
    "\n",
    "#### Acções do Pacman\n",
    "O Pacman pode mover-se 1 unidade numa das 4 direções ortogonais desde que não choque com um dos obstáculos (velocidade de 1), mas pode também ficar parado.\n",
    "\n",
    "#### Acções dos fantasmas\n",
    "Notem que um fantasma, se possível, nunca pode voltar para trás, tem sempre que manter a mesma direcção ao longo de um corredor e pode mudar de direcção numa encruzilhada. Mas, se chegar ao fundo de um beco sem saída, o fantasma é obrigado a inverter a direcção. Notem que podem coexistir mais do que um fantasma na mesma célula\n",
    "\n",
    "##### Efeito das superpastilhas\n",
    "Quando o Pacman come uma das super-pastilhas, os fantasmas ficam amedrontados e frágeis durante 40 instantes de tempo. Nesse período de tempo os fantasmas ficam vulneráveis e podem ser atacados e comidos pelo Pacman, regressado à base. Quando entram na base, perdem o medo e estão prontos para atacar o Pacman de novo. Quando estão sem medo, no modo normal, a velocidade dos fantasmas é igual à do Pacman (1), mas quando estão com medo, a velocidade é reduzida para metade (0.5).\n",
    "\n",
    "### Pontuação\n",
    "\n",
    "    Em cada instante a pontuação diminui uma unidade. Se ficar parado numa casa sem pastilha durante os 10 instantes iniciais, o score fica em -10.\n",
    "    Cada pastilha comida aumenta 10 pontos. Sempre que o Pacman se move para uma célula com pastilha, ganha 9 pontos: os 10 da pastilha - 1 ponto que perde em cada instante.\n",
    "    Cada super pastilha não vale pontos.\n",
    "    Quando come a última pastilha ganha 500 pontos e acaba o jogo, vencendo-o.\n",
    "    Se for comido por um fantasma perde 500 pontos e acaba o jogo, perdendo-o.\n",
    "    Cada fantasma com medo que é comido vale 200 pontos."
   ]
  },
  {
   "cell_type": "markdown",
   "metadata": {},
   "source": [
    "## Jogo manual\n",
    "Para começar o ideal é jogarem manualmente. Embora o projecto seja apenas Pacman contra fantasma, podem jogar contra mais do que 1 fantasma. Para isso podem executar o comando seguinte em que jogam contra 2 fantasmas que jogam ao acaso, num dos mapas: o mediumClassic.\n",
    "\n",
    "No caso de não especificarmos a classe python para o jogador que controla o Pacman então é porque é controlado pelo utilizador. Por omissão, o fantasma joga aleatoriamente.\n",
    "\n",
    "Joguem com as teclas das setas!"
   ]
  },
  {
   "cell_type": "code",
   "execution_count": 2,
   "metadata": {},
   "outputs": [
    {
     "name": "stdout",
     "output_type": "stream",
     "text": [
      "Pacman died! Score: -482\n",
      "Average Score: -482.0\n",
      "Scores:        -482.0\n",
      "Win Rate:      0/1 (0.00)\n",
      "Record:        Loss\n"
     ]
    }
   ],
   "source": [
    "! python pacman.py"
   ]
  },
  {
   "cell_type": "markdown",
   "metadata": {},
   "source": [
    "O tempo entre \"frames\" da animação é dado pela opção ***--frameTime***, que por defeito tem o valor 0.1.\n",
    "\n",
    "Se quiserem jogar de um modo mais rápido :-) podem desligar a animação. "
   ]
  },
  {
   "cell_type": "code",
   "execution_count": 16,
   "metadata": {},
   "outputs": [
    {
     "name": "stdout",
     "output_type": "stream",
     "text": [
      "Pacman died! Score: -415\n",
      "Ending graphics raised an exception: 0\n",
      "Average Score: -415.0\n",
      "Scores:        -415.0\n",
      "Win Rate:      0/1 (0.00)\n",
      "Record:        Loss\n"
     ]
    }
   ],
   "source": [
    "! python pacman.py --frameTime 0"
   ]
  },
  {
   "cell_type": "markdown",
   "metadata": {},
   "source": [
    "Mas podem também precisar de mais tempo:"
   ]
  },
  {
   "cell_type": "code",
   "execution_count": null,
   "metadata": {},
   "outputs": [],
   "source": [
    "! python pacman.py --frameTime 0.3"
   ]
  },
  {
   "cell_type": "markdown",
   "metadata": {},
   "source": [
    "## Random Pacman vs Random Fantasmas\n",
    "\n",
    "Se quiserem assitir a um jogo entre um Pacman autónomo que joga totalmente ao acaso, e não é grande espingarda, contra dois fantasmas ao acaso, podem fazer:"
   ]
  },
  {
   "cell_type": "code",
   "execution_count": 48,
   "metadata": {},
   "outputs": [
    {
     "name": "stdout",
     "output_type": "stream",
     "text": [
      "1\n",
      "NewGame: limite de jogadas: 1\n",
      "O número de jogadas é: 1\n",
      "O jogo não acabou! 0 vai jogar\n",
      "Faltam: 1 e agora joga o: 0\n",
      "O jogo não acabou! 1 vai jogar\n",
      "Faltam: 1 e agora joga o: 1\n",
      "O jogo não acabou! 2 vai jogar\n",
      "Faltam: 1 e agora joga o: 2\n",
      "Pacman emerges victorious! Score: 9\n",
      "Average Score: 9.0\n",
      "Scores:        9.0\n",
      "Win Rate:      1/1 (1.00)\n",
      "Record:        Win\n"
     ]
    }
   ],
   "source": [
    "## Jogar contra um fantasma mais combativo\n",
    "! python pacman.py -p RandomPac --frameTime 1 -y 1"
   ]
  },
  {
   "cell_type": "markdown",
   "metadata": {},
   "source": [
    "## Desligar o gráfico e mostrar e texto\n",
    "Podem desligar os gráficos e ver a evolução do jogo em modo texto usando a opção -t:"
   ]
  },
  {
   "cell_type": "code",
   "execution_count": null,
   "metadata": {},
   "outputs": [],
   "source": [
    "! python pacman.py -p RandomPac -t"
   ]
  },
  {
   "cell_type": "markdown",
   "metadata": {},
   "source": [
    "## Modo sossegado\n",
    "A opção -q serve para jogar sem imagens nem texto... sossego absoluto, nos bastidores, alguns chamam a isto o paraíso."
   ]
  },
  {
   "cell_type": "code",
   "execution_count": 37,
   "metadata": {},
   "outputs": [
    {
     "name": "stdout",
     "output_type": "stream",
     "text": [
      "10000\n",
      "NewGame: limite de jogadas: 10000\n",
      "O número de jogadas é: 10000\n",
      "O jogo não acabou! 0 vai jogar\n",
      "Faltam: 10000 e agora joga o: 0\n",
      "O jogo não acabou! 1 vai jogar\n",
      "Faltam: 10000 e agora joga o: 1\n",
      "O jogo não acabou! 2 vai jogar\n",
      "Faltam: 10000 e agora joga o: 2\n",
      "O jogo não acabou! 0 vai jogar\n",
      "Faltam: 9999 e agora joga o: 0\n",
      "O jogo não acabou! 1 vai jogar\n",
      "Faltam: 9999 e agora joga o: 1\n",
      "O jogo não acabou! 2 vai jogar\n",
      "Faltam: 9999 e agora joga o: 2\n",
      "O jogo não acabou! 0 vai jogar\n",
      "Faltam: 9998 e agora joga o: 0\n",
      "O jogo não acabou! 1 vai jogar\n",
      "Faltam: 9998 e agora joga o: 1\n",
      "O jogo não acabou! 2 vai jogar\n",
      "Faltam: 9998 e agora joga o: 2\n",
      "O jogo não acabou! 0 vai jogar\n",
      "Faltam: 9997 e agora joga o: 0\n",
      "O jogo não acabou! 1 vai jogar\n",
      "Faltam: 9997 e agora joga o: 1\n",
      "O jogo não acabou! 2 vai jogar\n",
      "Faltam: 9997 e agora joga o: 2\n",
      "O jogo não acabou! 0 vai jogar\n",
      "Faltam: 9996 e agora joga o: 0\n",
      "O jogo não acabou! 1 vai jogar\n",
      "Faltam: 9996 e agora joga o: 1\n",
      "O jogo não acabou! 2 vai jogar\n",
      "Faltam: 9996 e agora joga o: 2\n",
      "O jogo não acabou! 0 vai jogar\n",
      "Faltam: 9995 e agora joga o: 0\n",
      "O jogo não acabou! 1 vai jogar\n",
      "Faltam: 9995 e agora joga o: 1\n",
      "O jogo não acabou! 2 vai jogar\n",
      "Faltam: 9995 e agora joga o: 2\n",
      "O jogo não acabou! 0 vai jogar\n",
      "Faltam: 9994 e agora joga o: 0\n",
      "O jogo não acabou! 1 vai jogar\n",
      "Faltam: 9994 e agora joga o: 1\n",
      "O jogo não acabou! 2 vai jogar\n",
      "Faltam: 9994 e agora joga o: 2\n",
      "O jogo não acabou! 0 vai jogar\n",
      "Faltam: 9993 e agora joga o: 0\n",
      "O jogo não acabou! 1 vai jogar\n",
      "Faltam: 9993 e agora joga o: 1\n",
      "O jogo não acabou! 2 vai jogar\n",
      "Faltam: 9993 e agora joga o: 2\n",
      "O jogo não acabou! 0 vai jogar\n",
      "Faltam: 9992 e agora joga o: 0\n",
      "O jogo não acabou! 1 vai jogar\n",
      "Faltam: 9992 e agora joga o: 1\n",
      "O jogo não acabou! 2 vai jogar\n",
      "Faltam: 9992 e agora joga o: 2\n",
      "O jogo não acabou! 0 vai jogar\n",
      "Faltam: 9991 e agora joga o: 0\n",
      "O jogo não acabou! 1 vai jogar\n",
      "Faltam: 9991 e agora joga o: 1\n",
      "O jogo não acabou! 2 vai jogar\n",
      "Faltam: 9991 e agora joga o: 2\n",
      "O jogo não acabou! 0 vai jogar\n",
      "Faltam: 9990 e agora joga o: 0\n",
      "O jogo não acabou! 1 vai jogar\n",
      "Faltam: 9990 e agora joga o: 1\n",
      "O jogo não acabou! 2 vai jogar\n",
      "Faltam: 9990 e agora joga o: 2\n",
      "O jogo não acabou! 0 vai jogar\n",
      "Faltam: 9989 e agora joga o: 0\n",
      "O jogo não acabou! 1 vai jogar\n",
      "Faltam: 9989 e agora joga o: 1\n",
      "O jogo não acabou! 2 vai jogar\n",
      "Faltam: 9989 e agora joga o: 2\n",
      "O jogo não acabou! 0 vai jogar\n",
      "Faltam: 9988 e agora joga o: 0\n",
      "O jogo não acabou! 1 vai jogar\n",
      "Faltam: 9988 e agora joga o: 1\n",
      "O jogo não acabou! 2 vai jogar\n",
      "Faltam: 9988 e agora joga o: 2\n",
      "O jogo não acabou! 0 vai jogar\n",
      "Faltam: 9987 e agora joga o: 0\n",
      "O jogo não acabou! 1 vai jogar\n",
      "Faltam: 9987 e agora joga o: 1\n",
      "O jogo não acabou! 2 vai jogar\n",
      "Faltam: 9987 e agora joga o: 2\n",
      "O jogo não acabou! 0 vai jogar\n",
      "Faltam: 9986 e agora joga o: 0\n",
      "O jogo não acabou! 1 vai jogar\n",
      "Faltam: 9986 e agora joga o: 1\n",
      "O jogo não acabou! 2 vai jogar\n",
      "Faltam: 9986 e agora joga o: 2\n",
      "O jogo não acabou! 0 vai jogar\n",
      "Faltam: 9985 e agora joga o: 0\n",
      "O jogo não acabou! 1 vai jogar\n",
      "Faltam: 9985 e agora joga o: 1\n",
      "O jogo não acabou! 2 vai jogar\n",
      "Faltam: 9985 e agora joga o: 2\n",
      "O jogo não acabou! 0 vai jogar\n",
      "Faltam: 9984 e agora joga o: 0\n",
      "O jogo não acabou! 1 vai jogar\n",
      "Faltam: 9984 e agora joga o: 1\n",
      "O jogo não acabou! 2 vai jogar\n",
      "Faltam: 9984 e agora joga o: 2\n",
      "O jogo não acabou! 0 vai jogar\n",
      "Faltam: 9983 e agora joga o: 0\n",
      "O jogo não acabou! 1 vai jogar\n",
      "Faltam: 9983 e agora joga o: 1\n",
      "O jogo não acabou! 2 vai jogar\n",
      "Faltam: 9983 e agora joga o: 2\n",
      "O jogo não acabou! 0 vai jogar\n",
      "Faltam: 9982 e agora joga o: 0\n",
      "O jogo não acabou! 1 vai jogar\n",
      "Faltam: 9982 e agora joga o: 1\n",
      "O jogo não acabou! 2 vai jogar\n",
      "Faltam: 9982 e agora joga o: 2\n",
      "O jogo não acabou! 0 vai jogar\n",
      "Faltam: 9981 e agora joga o: 0\n",
      "O jogo não acabou! 1 vai jogar\n",
      "Faltam: 9981 e agora joga o: 1\n",
      "O jogo não acabou! 2 vai jogar\n",
      "Faltam: 9981 e agora joga o: 2\n",
      "O jogo não acabou! 0 vai jogar\n",
      "Faltam: 9980 e agora joga o: 0\n",
      "O jogo não acabou! 1 vai jogar\n",
      "Faltam: 9980 e agora joga o: 1\n",
      "O jogo não acabou! 2 vai jogar\n",
      "Faltam: 9980 e agora joga o: 2\n",
      "O jogo não acabou! 0 vai jogar\n",
      "Faltam: 9979 e agora joga o: 0\n",
      "O jogo não acabou! 1 vai jogar\n",
      "Faltam: 9979 e agora joga o: 1\n",
      "O jogo não acabou! 2 vai jogar\n",
      "Faltam: 9979 e agora joga o: 2\n",
      "O jogo não acabou! 0 vai jogar\n",
      "Faltam: 9978 e agora joga o: 0\n",
      "O jogo não acabou! 1 vai jogar\n",
      "Faltam: 9978 e agora joga o: 1\n",
      "O jogo não acabou! 2 vai jogar\n",
      "Faltam: 9978 e agora joga o: 2\n",
      "O jogo não acabou! 0 vai jogar\n",
      "Faltam: 9977 e agora joga o: 0\n",
      "O jogo não acabou! 1 vai jogar\n",
      "Faltam: 9977 e agora joga o: 1\n",
      "O jogo não acabou! 2 vai jogar\n",
      "Faltam: 9977 e agora joga o: 2\n",
      "O jogo não acabou! 0 vai jogar\n",
      "Faltam: 9976 e agora joga o: 0\n",
      "O jogo não acabou! 1 vai jogar\n",
      "Faltam: 9976 e agora joga o: 1\n",
      "O jogo não acabou! 2 vai jogar\n",
      "Faltam: 9976 e agora joga o: 2\n",
      "O jogo não acabou! 0 vai jogar\n",
      "Faltam: 9975 e agora joga o: 0\n",
      "O jogo não acabou! 1 vai jogar\n",
      "Faltam: 9975 e agora joga o: 1\n",
      "O jogo não acabou! 2 vai jogar\n",
      "Faltam: 9975 e agora joga o: 2\n",
      "O jogo não acabou! 0 vai jogar\n",
      "Faltam: 9974 e agora joga o: 0\n",
      "O jogo não acabou! 1 vai jogar\n",
      "Faltam: 9974 e agora joga o: 1\n",
      "O jogo não acabou! 2 vai jogar\n",
      "Faltam: 9974 e agora joga o: 2\n",
      "O jogo não acabou! 0 vai jogar\n",
      "Faltam: 9973 e agora joga o: 0\n",
      "O jogo não acabou! 1 vai jogar\n",
      "Faltam: 9973 e agora joga o: 1\n",
      "O jogo não acabou! 2 vai jogar\n",
      "Faltam: 9973 e agora joga o: 2\n",
      "O jogo não acabou! 0 vai jogar\n",
      "Faltam: 9972 e agora joga o: 0\n",
      "O jogo não acabou! 1 vai jogar\n",
      "Faltam: 9972 e agora joga o: 1\n",
      "O jogo não acabou! 2 vai jogar\n",
      "Faltam: 9972 e agora joga o: 2\n",
      "O jogo não acabou! 0 vai jogar\n",
      "Faltam: 9971 e agora joga o: 0\n",
      "O jogo não acabou! 1 vai jogar\n",
      "Faltam: 9971 e agora joga o: 1\n",
      "O jogo não acabou! 2 vai jogar\n",
      "Faltam: 9971 e agora joga o: 2\n",
      "O jogo não acabou! 0 vai jogar\n",
      "Faltam: 9970 e agora joga o: 0\n",
      "O jogo não acabou! 1 vai jogar\n",
      "Faltam: 9970 e agora joga o: 1\n",
      "O jogo não acabou! 2 vai jogar\n",
      "Faltam: 9970 e agora joga o: 2\n",
      "O jogo não acabou! 0 vai jogar\n",
      "Faltam: 9969 e agora joga o: 0\n",
      "O jogo não acabou! 1 vai jogar\n",
      "Faltam: 9969 e agora joga o: 1\n",
      "O jogo não acabou! 2 vai jogar\n",
      "Faltam: 9969 e agora joga o: 2\n",
      "O jogo não acabou! 0 vai jogar\n",
      "Faltam: 9968 e agora joga o: 0\n",
      "O jogo não acabou! 1 vai jogar\n",
      "Faltam: 9968 e agora joga o: 1\n",
      "O jogo não acabou! 2 vai jogar\n",
      "Faltam: 9968 e agora joga o: 2\n",
      "O jogo não acabou! 0 vai jogar\n",
      "Faltam: 9967 e agora joga o: 0\n",
      "O jogo não acabou! 1 vai jogar\n",
      "Faltam: 9967 e agora joga o: 1\n",
      "O jogo não acabou! 2 vai jogar\n",
      "Faltam: 9967 e agora joga o: 2\n",
      "O jogo não acabou! 0 vai jogar\n",
      "Faltam: 9966 e agora joga o: 0\n",
      "O jogo não acabou! 1 vai jogar\n",
      "Faltam: 9966 e agora joga o: 1\n",
      "O jogo não acabou! 2 vai jogar\n",
      "Faltam: 9966 e agora joga o: 2\n",
      "O jogo não acabou! 0 vai jogar\n",
      "Faltam: 9965 e agora joga o: 0\n",
      "O jogo não acabou! 1 vai jogar\n",
      "Faltam: 9965 e agora joga o: 1\n",
      "O jogo não acabou! 2 vai jogar\n",
      "Faltam: 9965 e agora joga o: 2\n",
      "O jogo não acabou! 0 vai jogar\n",
      "Faltam: 9964 e agora joga o: 0\n",
      "O jogo não acabou! 1 vai jogar\n",
      "Faltam: 9964 e agora joga o: 1\n",
      "O jogo não acabou! 2 vai jogar\n",
      "Faltam: 9964 e agora joga o: 2\n",
      "O jogo não acabou! 0 vai jogar\n",
      "Faltam: 9963 e agora joga o: 0\n",
      "O jogo não acabou! 1 vai jogar\n",
      "Faltam: 9963 e agora joga o: 1\n",
      "O jogo não acabou! 2 vai jogar\n",
      "Faltam: 9963 e agora joga o: 2\n",
      "O jogo não acabou! 0 vai jogar\n",
      "Faltam: 9962 e agora joga o: 0\n",
      "O jogo não acabou! 1 vai jogar\n",
      "Faltam: 9962 e agora joga o: 1\n",
      "O jogo não acabou! 2 vai jogar\n",
      "Faltam: 9962 e agora joga o: 2\n",
      "O jogo não acabou! 0 vai jogar\n",
      "Faltam: 9961 e agora joga o: 0\n",
      "O jogo não acabou! 1 vai jogar\n",
      "Faltam: 9961 e agora joga o: 1\n",
      "O jogo não acabou! 2 vai jogar\n",
      "Faltam: 9961 e agora joga o: 2\n",
      "O jogo não acabou! 0 vai jogar\n",
      "Faltam: 9960 e agora joga o: 0\n",
      "O jogo não acabou! 1 vai jogar\n",
      "Faltam: 9960 e agora joga o: 1\n",
      "O jogo não acabou! 2 vai jogar\n",
      "Faltam: 9960 e agora joga o: 2\n",
      "O jogo não acabou! 0 vai jogar\n",
      "Faltam: 9959 e agora joga o: 0\n",
      "O jogo não acabou! 1 vai jogar\n",
      "Faltam: 9959 e agora joga o: 1\n",
      "O jogo não acabou! 2 vai jogar\n",
      "Faltam: 9959 e agora joga o: 2\n",
      "O jogo não acabou! 0 vai jogar\n",
      "Faltam: 9958 e agora joga o: 0\n",
      "O jogo não acabou! 1 vai jogar\n",
      "Faltam: 9958 e agora joga o: 1\n",
      "O jogo não acabou! 2 vai jogar\n",
      "Faltam: 9958 e agora joga o: 2\n",
      "Pacman died! Score: -433\n",
      "Average Score: -433.0\n",
      "Scores:        -433.0\n",
      "Win Rate:      0/1 (0.00)\n",
      "Record:        Loss\n"
     ]
    }
   ],
   "source": [
    "! python pacman.py -p RandomPac -q"
   ]
  },
  {
   "cell_type": "markdown",
   "metadata": {},
   "source": [
    "## Limite de Jogadas em cada Jogo\n",
    "Para que um jogo tenha sempre fim, mesmo que o Pacman teimosamente não queira comer as pastilhas nem o fantasma queira capturar o Pacman, estipulámos um limite para cada jogo que pode ser também uma opção na linha de comandos (-y). Consideramos como uma só jogada as jogadas de ambos os jogadores. Por omissão esse limite é de 10000. Se o jogo acabar devido ao limite de jogadas, esse jogo é de vitória para o Pacman porque não foi capturado. Não ecoamos o número de jogadas.\n",
    "Para fazer um jogo limitado a 20 jogadas duplas façam por exemplo:"
   ]
  },
  {
   "cell_type": "code",
   "execution_count": 36,
   "metadata": {},
   "outputs": [
    {
     "name": "stdout",
     "output_type": "stream",
     "text": [
      "1\n",
      "NewGame: limite de jogadas: 1\n",
      "O número de jogadas é: 1\n",
      "Faltam: 1 e agora joga o: 0\n",
      "Faltam: 1 e agora joga o: 1\n",
      "Faltam: 1 e agora joga o: 2\n",
      "Faltam: 0 e agora joga o: 0\n",
      "Pacman emerges victorious! Score: 8\n",
      "Average Score: 8.0\n",
      "Scores:        8.0\n",
      "Win Rate:      1/1 (1.00)\n",
      "Record:        Win\n"
     ]
    }
   ],
   "source": [
    "! python pacman.py -p RandomPac -y 1 --frameTime 2"
   ]
  },
  {
   "cell_type": "markdown",
   "metadata": {},
   "source": [
    "## Fazendo vários jogos\n",
    "Para fazerem vários jogos entre os mesmos jogadores devem usar a opção -n. Em baixo podem fazer com que se repitam 10 jogos entre os dois jogadores aleatórios. NO fim poderão observar a média das pontuações, a pontuação de cada um dos jogos, por ordem, a taxa de vitórias e a indicação se ganharam ou perderam em cada jogo, por ordem."
   ]
  },
  {
   "cell_type": "code",
   "execution_count": null,
   "metadata": {},
   "outputs": [],
   "source": [
    "! python pacman.py -p RandomPac --frameTime 0 -n 10"
   ]
  },
  {
   "cell_type": "markdown",
   "metadata": {},
   "source": [
    "# Fixando a RandomSeed\n",
    "Para correrem o mesmo jogo, para debugging podem fixar a random seed, recorrendo à opção -f.\n",
    "Executem duas vezes o jogo entre dois joogadores ao acaso e verão que o jogo se repete ao segundo."
   ]
  },
  {
   "cell_type": "code",
   "execution_count": null,
   "metadata": {},
   "outputs": [],
   "source": [
    "! python pacman.py -p RandomPac -f"
   ]
  },
  {
   "cell_type": "markdown",
   "metadata": {},
   "source": [
    "## Mapas\n",
    "Existem vários ambientes do Pacman que podem utilizar e que podem ser visualizados em modo texto e em modo gráfico. Na verdade eles estão em ficheiros em modo texto (com a extensão .lay) e se quiserem podem criar mapas novos, em particular se quiserem testar a função de avaliação para cenários especificos.\n",
    "Os mapas que existem são:\n",
    "\n",
    "    capsuleClassic\n",
    "    contestClasic\n",
    "    mediumClassic\n",
    "    minimaxClassic\n",
    "    openClassic\n",
    "    originalClassic\n",
    "    powerClassic\n",
    "    smallClassic\n",
    "    testClassic\n",
    "    trappedClassic\n",
    "    trickyClassic\n",
    "    \n",
    "Por defeito, o mapa é mediumClassic, mas experimentem os vários mapas, por exemplo, o originalClassic:"
   ]
  },
  {
   "cell_type": "code",
   "execution_count": null,
   "metadata": {},
   "outputs": [],
   "source": [
    "! python pacman.py -l originalClassic -y 50"
   ]
  },
  {
   "cell_type": "markdown",
   "metadata": {},
   "source": [
    "## Fazer zoom\n",
    "Se quiserem fazer zoom sobre o gráfico podem usar a opção -z. Passarão para o dobro se colcoarem 2"
   ]
  },
  {
   "cell_type": "code",
   "execution_count": null,
   "metadata": {},
   "outputs": [],
   "source": [
    "! python pacman.py -z 2 "
   ]
  },
  {
   "cell_type": "markdown",
   "metadata": {},
   "source": [
    "## Manipular o número de fantasmas\n",
    "O Layout define o número máximo de fantasmas para um certo mapa, mas podemos jogar com menos fantasmas.\n",
    "Por exemplo se quisermos jogar no mapa mediumClassic apenas com um fantasma poderemos usar -k: "
   ]
  },
  {
   "cell_type": "code",
   "execution_count": null,
   "metadata": {},
   "outputs": [],
   "source": [
    " ! python pacman.py -k 1"
   ]
  },
  {
   "cell_type": "markdown",
   "metadata": {},
   "source": [
    "## Arquivar um jogo\n",
    "Podemos arquivar um jogo usando na linha de comandos -r. O nome do ficheiro é gerado automaticamente com base no Pacman e Fantasmas utilizados e colocado na directoria *results*."
   ]
  },
  {
   "cell_type": "code",
   "execution_count": null,
   "metadata": {},
   "outputs": [],
   "source": [
    "! python pacman.py -r"
   ]
  },
  {
   "cell_type": "markdown",
   "metadata": {},
   "source": [
    "## Correr um jogo arquivado\n",
    "Podem procurar na directoria *results* por um ficheiro que começa em \"recorde-game-\".\n",
    "Então para o correr de novo executem o comando seguinte em que subsitutem o nome do ficheiro pelo que foi gerado:"
   ]
  },
  {
   "cell_type": "code",
   "execution_count": null,
   "metadata": {},
   "outputs": [],
   "source": [
    "! python pacman.py --replay results/recorded-game-PacKeyboardAgent-FantRandomGhost-1-11-16-18-2-15"
   ]
  },
  {
   "cell_type": "markdown",
   "metadata": {},
   "source": [
    "## Objectivos do Projecto\n",
    "\n",
    "### Fantasma contra Pacman\n",
    "Neste projecto terão de desenvolver dois jogadores, um para controlar o Pacman e o outro para controlar um fantasma apenas. Mesmo que o mapa tenha mais do que um fantasma, os fantasmas em excesso serão ignorados através da opção -k 1. Todos os jogadores vão utilizar o mesmo algoritmo alfabeta limitado à mesma profundidade e terão que desenvolver duas funções de avaliação, uma para jogarem como Pacman e outra para jogarem como fantasma.\n",
    "\n",
    "### Função de avaliação para o Pacman e para o Fantasma\n",
    "Para que possamos organizar mais facilmente o torneio é conveniente formatar os nomes das funções de avaliação que conterão o número dos grupos.\n",
    "\n",
    "Assim, qualquer função de avaliação do Pacman será chamada de ***pac_X*** em que X é o número do grupo. O mesmo para o fantasma que será ***fant_X***.\n",
    "\n",
    "O grupo 1 desenvolverá as funções ***pac_1()*** e ***fant_1()***. Atenção que o código auxiliar deve também estar etiquetado com o número do grupo (variáveis, métodos e classes) para que não hajam grupos a correrem código do vizinho do lado. \n",
    "\n",
    "Notem que essas funções recebem dois argumentos: o estado do jogo e o jogador.\n",
    "\n",
    "Há dois jogadores: 'Pacman' e 'Ghost'\n",
    "\n",
    "Vamos descrever o estado do jogo mais abaixo.\n",
    "\n",
    "### Torneio\n",
    "No final do projecto, vamos realizar um torneio em que todos os Pacmans jogam com todos os Fantasmas dos outros grupos em pelo menos dois mapas e várias vezes em cada mapa. Os mapas são os mesmos para todos e à partida ninguém sabe em que mapa irá decorrer o torneio. Pelo menos um dos mapas é completamente novo, desconhecido dos jogadores.\n",
    "Para cada Pacman:\n",
    "1. Vamos contar o número de vitórias\n",
    "2. Vamos obter o score acumulado\n",
    "Para cada Fantasmas:\n",
    "1. Vamos contar o número de derrotas do adversário\n",
    "2. Vamos obter o score acumulado\n",
    "Desta tabela de valores sairá a nota final do projecto.\n",
    "\n",
    "#### Limite de profundidade da árvore de procura\n",
    "Iremos em princípio utilizar o limite de profundidade de 8 no torneio tanto para o agente Pacman como para o fantasma. Uma profundidade de 8 quer dizer que 4 jogadas alternadas de cada um. Pode acontecer que por razões de tempo tenhamos que diminuir esse limite para 6.\n",
    "\n",
    "#### pacmanX e fantasmaX\n",
    "Nós vamos fornecer dois jogadores básicos: pac_X e fant_X. Notem que todos os fantasmas irão também jogar contra o pac_X e que todos os pacmans irão jogar contra o fant_X. É conveniente que obtenham um desempenho superior aos nossos jogadores base X."
   ]
  },
  {
   "cell_type": "markdown",
   "metadata": {},
   "source": [
    "## Estado do Jogo Pacman\n",
    "O estado do jogo vai ser formado por um triplo que indica:\n",
    "   \n",
    "    to_move   - o jogador que vai jogar a seguir\n",
    "    board  - toda a informação sobre o jogo\n",
    "    extra - campo livre para poderem colocar a informação que acharem interessante para a construção da função de avaliação. Tem o valor None por defeito.\n",
    "    \n",
    "O estado é definido como um namedtuple no ficheiro *multiagents.py*\n",
    "\n",
    "```python\n",
    "ClassicPac = namedtuple('ClassicPac', 'to_move, board, extra',defaults=[None])\n",
    "\n",
    "```\n",
    "\n",
    "O campo **to_move** pode ter dois valores: 'Pacman' ou 'Ghosts'\n",
    "\n",
    "O campo **extra** serve para guardarem o que quiserem para formar o estado do jogo, para além da informação dada pelo campo board.\n",
    "\n",
    "A seguir iremos explicar o que consta no campo **board** do estado."
   ]
  },
  {
   "cell_type": "markdown",
   "metadata": {},
   "source": [
    "## Informação sobre o tabuleiro de jogo\n",
    "Toda a informação relevante sobre o jogo, i.e., sobre as pastilhas, as super-pastilhas, o estado do Pacman, dos fantasmas e o score, está na representada na classe **GameState**, que se situa no ficheiro *pacman.py*.\n",
    "\n",
    "As instâncias de **GameState** são utilizados pelo próprio controlador do jogo para capturarem o estado actual do jogo e vai ser utilizado pelos agentes para raciocinarem acerca do jogo.\n",
    "\n",
    "A maior parte da informação está guardada num objecto da classe **GameStateData**. Recomenda-se que acedam aos dados através des métodos de leitura de dados (\"accessors\") e não directamente aos atributos dos objectos **GameStateData**.\n",
    "\n",
    "É importante saber que o index do Pacman é o 0 e os fantasmas correspondem ao index de 1 até n, no caso de termos n fantasmas, mas para o torneio teremos apenas dois agentes, o de índice 0 e de índice 1.\n",
    "\n",
    "Eis alguns métodos da classe:\n",
    "\n",
    "    initialize(layout, numGhostAgents): Cria um estado inicial do jogo com base num mapa\n",
    "\n",
    "    getLegalActions(agentIndex): Devolve a lista de acções dado o index do agente\n",
    "    \n",
    "    getLegalPacmanActions(): Devolve a lista de acções do Pacman (agente com index 0)\n",
    "    \n",
    "    generateSuccessor(agentIndex, action): O estado do jogo que resulta do action de agentIndex\n",
    "    \n",
    "    generatePacmanSuccessor(action): O estado do jogo que resulta do action do agentIndex 0 (Pacman)\n",
    "    \n",
    "    getPacmanState(): Devolve o estado do agente (objecto AgentState, em game.py) para o Pacman\n",
    "        state.pos devolve a posição actual\n",
    "        state.direction devolve o vector de movimento\n",
    "        \n",
    "    getPacmanPosition(): Devolve a posição actual do Pacman\n",
    "    \n",
    "    getGhostStates(): Devolve os estados dos fantasmas\n",
    "    \n",
    "    getGhostState(agentIndex): Devolve o estado do fantasma com índice agentIndex\n",
    "    \n",
    "    getGhostPosition(agentIndex): Devolve a posição do fantasma de index agentIndex\n",
    "\n",
    "    getGhostPositions(): Devolve a lista das posições de todos os fantasmas\n",
    "    \n",
    "    getNumAgents(): Devolve o número de agentes\n",
    "\n",
    "    getScore(): Devolve a pontuação actual\n",
    "    \n",
    "    getCapsules(): Devolve as coordenadas das super pastilhas\n",
    "\n",
    "    getNumFood(): Devolve o número de pastilhas\n",
    "\n",
    "    getFood(): Devolve um objeto da classe Grid com os valores booleanos a indicar se contém pastilha ou não\n",
    "       \n",
    "    getWalls(): Devolve a lista de paredes\n",
    "    \n",
    "    hasFood(x,y): Booleano que indica se o ponto (x,y) corresponde a uma pastilha\n",
    "\n",
    "    hasWall(x,y): Booleano que indica se o ponto (x,y) corresponde a uma parede\n",
    "\n",
    "    isLose(): Booleano a indicar derrota do Pacman (capturado por fantasmas) \n",
    "    \n",
    "    isWin(): Booleano que indica se o Pacman ganhou (comeu todas as pastilhas)\n"
   ]
  },
  {
   "cell_type": "markdown",
   "metadata": {},
   "source": [
    "### Convertendo o mapa (layout) no estado inicial do jogo\n",
    "Vamos converter o ficheiro layout num objecto da classe layout que está definida em layout.py.\n",
    "Notem que no modo texto os mapas usam os símbolos:\n",
    "    \n",
    "    %  -- Obstáculo\n",
    "    P  -- Pacman\n",
    "    G  -- Fantasma\n",
    "    .  -- Pastilha\n",
    "    o  -- Super-pastilha\n",
    "    \n",
    "Os pontos do mapa possuem coordenadas cartesianas em que o ponto (0,0) corresponde ao canto mais à esquerda, no fundo do mapa.\n",
    "\n",
    "Para fazer essa conversão iremos criar um object da classe **Layout()** e usar o método ***initialize()***. Podemos usar um dos mapas mais pequenos, por exemplo o smallClassic"
   ]
  },
  {
   "cell_type": "code",
   "execution_count": null,
   "metadata": {},
   "outputs": [],
   "source": [
    "import layout\n",
    "import math\n",
    "lay=layout.getLayout(\"smallClassic.lay\")\n",
    "print(lay)   "
   ]
  },
  {
   "cell_type": "markdown",
   "metadata": {},
   "source": [
    "Temos de converter este layout num objecto GameState, criando uma instância dessa classe e depois aplicando o método ***initialize()***. Ao imprimir esse objecto podemos vizualizar o jogo em modo texto, juntamente com a pontuação. O pacman tem o símbolo de '>', todos os outros símbolos são os mesmos que no ficheiro de layout. Estes comandos serão importantes para mais tarde testarem as vossas funções de avaliação. Poderão criar os cenários de teste em modo texto e depois inicializarem um jogo, acedendo ao estado e podendo depois executar as funções de avaliação."
   ]
  },
  {
   "cell_type": "code",
   "execution_count": null,
   "metadata": {},
   "outputs": [],
   "source": [
    "from  pacman import *\n",
    "g = GameState()\n",
    "g.initialize(lay,2)\n",
    "print(g)"
   ]
  },
  {
   "cell_type": "markdown",
   "metadata": {},
   "source": [
    "### Pontuação, paredes, pastilhas e super-pastilhas\n",
    "Vamos obter a pontuação, as coordenadas das super-pastilhas e as pastilhas"
   ]
  },
  {
   "cell_type": "code",
   "execution_count": null,
   "metadata": {},
   "outputs": [],
   "source": [
    "print(\"O score:\",g.getScore())\n",
    "print('Pastilhões:',g.getCapsules())\n",
    "print('Comidinha:',g.getFood())"
   ]
  },
  {
   "cell_type": "markdown",
   "metadata": {},
   "source": [
    "Devolve um objeto do tipo ***Grid()***. Temos de o converter numa lista, usando o método ***asList()***:"
   ]
  },
  {
   "cell_type": "code",
   "execution_count": null,
   "metadata": {},
   "outputs": [],
   "source": [
    "print('Comidinha:',g.getFood().asList())"
   ]
  },
  {
   "cell_type": "markdown",
   "metadata": {},
   "source": [
    "O mesmo com as paredes..."
   ]
  },
  {
   "cell_type": "code",
   "execution_count": null,
   "metadata": {},
   "outputs": [],
   "source": [
    "print('Blocos:',g.getWalls().asList())"
   ]
  },
  {
   "cell_type": "markdown",
   "metadata": {},
   "source": [
    "Podemos querer saber se uma determinada célula ou posição é uma parede ou uma pastilha."
   ]
  },
  {
   "cell_type": "code",
   "execution_count": null,
   "metadata": {},
   "outputs": [],
   "source": [
    "print('(1,1) é comida?',g.hasFood(1,1))\n",
    "print('(0,5) é uma parede?',g.hasWall(0,5))"
   ]
  },
  {
   "cell_type": "markdown",
   "metadata": {},
   "source": [
    "### Informação sobre o Pacman e os fantasmas"
   ]
  },
  {
   "cell_type": "markdown",
   "metadata": {},
   "source": [
    "#### Pacman\n",
    "Vamos então obter a posição do Pacman "
   ]
  },
  {
   "cell_type": "code",
   "execution_count": null,
   "metadata": {},
   "outputs": [],
   "source": [
    "print('Pacman:',g.getPacmanPosition())"
   ]
  },
  {
   "cell_type": "markdown",
   "metadata": {},
   "source": [
    "Podemos pedir o estado do Pacman que é um objecto da classe **AgentState** (em *game.py*) e podemos usar o método ***getPosition()*** "
   ]
  },
  {
   "cell_type": "code",
   "execution_count": null,
   "metadata": {},
   "outputs": [],
   "source": [
    "g.getPacmanState().getPosition()"
   ]
  },
  {
   "cell_type": "markdown",
   "metadata": {},
   "source": [
    "e o método ***getDirection()***, que neste momento é 'Stop' (Estava sem direcção)"
   ]
  },
  {
   "cell_type": "code",
   "execution_count": null,
   "metadata": {},
   "outputs": [],
   "source": [
    "g.getPacmanState().getDirection()"
   ]
  },
  {
   "cell_type": "markdown",
   "metadata": {},
   "source": [
    "Se imprimirmos o objecto AgentState podemos ver a posição e a direcção"
   ]
  },
  {
   "cell_type": "code",
   "execution_count": null,
   "metadata": {},
   "outputs": [],
   "source": [
    "print(g.getPacmanState())"
   ]
  },
  {
   "cell_type": "markdown",
   "metadata": {},
   "source": [
    "#### Fantasmas\n",
    "Podemos obter a lista das posições dos fantasmas"
   ]
  },
  {
   "cell_type": "code",
   "execution_count": null,
   "metadata": {},
   "outputs": [],
   "source": [
    "print('Posições dos Fantasmas:',g.getGhostPositions())"
   ]
  },
  {
   "cell_type": "markdown",
   "metadata": {},
   "source": [
    "Podemos imprimir a direcção e posição de cada um dos fantasmas:"
   ]
  },
  {
   "cell_type": "code",
   "execution_count": null,
   "metadata": {},
   "outputs": [],
   "source": [
    "print(g.getGhostState(1))\n",
    "print(g.getGhostState(2))"
   ]
  },
  {
   "cell_type": "markdown",
   "metadata": {},
   "source": [
    "O Fantasma 1 é o que está mais à esquerda no mapa, neste caso. Podemos também obter a informação da posição e direcção separadamente:"
   ]
  },
  {
   "cell_type": "code",
   "execution_count": null,
   "metadata": {},
   "outputs": [],
   "source": [
    "print('Fantasma 1:','Pos:',g.getGhostState(1).getPosition(),'Dir:',g.getGhostState(1).getDirection())"
   ]
  },
  {
   "cell_type": "markdown",
   "metadata": {},
   "source": [
    "Também poderemos saber o tempo que falta até esgotar o seu medo, usando o atributo ***scaredTime***. Cada fantasma começa sem medo e esse atributo estará a 0."
   ]
  },
  {
   "cell_type": "code",
   "execution_count": null,
   "metadata": {},
   "outputs": [],
   "source": [
    "print('Medo do fantasma 1:',g.getGhostState(1).scaredTimer)"
   ]
  },
  {
   "cell_type": "markdown",
   "metadata": {},
   "source": [
    "### Acções dos agentes"
   ]
  },
  {
   "cell_type": "code",
   "execution_count": null,
   "metadata": {},
   "outputs": [],
   "source": [
    "print(g)\n",
    "print('Acções do agent de índice 0 (Pacman):')\n",
    "g.getLegalActions()"
   ]
  },
  {
   "cell_type": "markdown",
   "metadata": {},
   "source": [
    "Vejemos quais as acções possíveis de cada um dos fantasmas."
   ]
  },
  {
   "cell_type": "code",
   "execution_count": null,
   "metadata": {},
   "outputs": [],
   "source": [
    "print('Acções do agent de índice 1 (fantasma):',g.getLegalActions(1))\n",
    "\n",
    "print('Acções do agent de índice 2 (fantasma):',g.getLegalActions(1))\n",
    "g.getLegalActions(2)"
   ]
  },
  {
   "cell_type": "markdown",
   "metadata": {},
   "source": [
    "### Transições entre estados: resultantes de jogadas"
   ]
  },
  {
   "cell_type": "code",
   "execution_count": null,
   "metadata": {},
   "outputs": [],
   "source": [
    "g1=g.generateSuccessor(1,'East')\n",
    "print(g1)\n",
    "g2=g1.generateSuccessor(2,'West')\n",
    "print(g2)\n",
    "g3=g2.generateSuccessor(1,'East')\n",
    "print(g3)\n",
    "g3.getLegalActions(1)"
   ]
  },
  {
   "cell_type": "markdown",
   "metadata": {},
   "source": [
    "Agora, façamos o Pacman avançar 4 passos para leste, e vamos imprimir a evolução do mapa, da pontuação e das acções possíveis."
   ]
  },
  {
   "cell_type": "code",
   "execution_count": null,
   "metadata": {},
   "outputs": [],
   "source": [
    "g4=g3.generateSuccessor(0,'East')\n",
    "print(g4)\n",
    "print('Acções do Pacman:',g4.getLegalActions(0))\n",
    "g5=g4.generateSuccessor(0,'East')\n",
    "print(g5)\n",
    "print('Acções do Pacman:',g5.getLegalActions(0))\n",
    "g6=g5.generateSuccessor(0,'East')\n",
    "print(g6)\n",
    "print('Acções do Pacman:',g6.getLegalActions(0))\n",
    "g7=g6.generateSuccessor(0,'East')\n",
    "print(g7)\n",
    "print('Acções do Pacman:',g7.getLegalActions(0))"
   ]
  },
  {
   "cell_type": "markdown",
   "metadata": {},
   "source": [
    "## GLOBAIS\n",
    "\n",
    "Existem 3 variáveis em *pacman.py* que indicam a duração máxima do efeito das super-pastilhas sobre os fantasmas:\n",
    "\n",
    "    SCARED_TIME = 40    # Moves ghosts are scared\n",
    "    \n",
    "A distância que o Pacman precisa de estar de um fantasma para ser considerado capturado\n",
    "\n",
    "    COLLISION_TOLERANCE = 0.7  # How close ghosts must be to Pacman to kill\n",
    "    \n",
    "A penalidade na pontuação por cada unidade de tempo\n",
    "\n",
    "    TIME_PENALTY = 1  # Number of points lost each round\n",
    "\n",
    "As variáveis que indicam a velocidade do Pacman e dos fantasmas estão nas variáveis seguintes, em que a primeira pertence à class **PacmanRules** e a segunda à classe **GhostRules**.\n",
    "\n",
    "    PACMAN_SPEED = 1   na classe PacmanRules em pacman.py\n",
    "\n",
    "    GHOST_SPEED  1.0     está na classe GhostRules em pacman.py\n",
    "\n",
    "Noten que a velocidade de um fantasma com medo é sempre igual GhostRules.GHOST_SPEED. "
   ]
  },
  {
   "cell_type": "markdown",
   "metadata": {},
   "source": [
    "## A classe Agent\n",
    "Todos os jogadores são instâncias da classe **Agent** que tem o índice do agente (0 para o Pacman e os restates para os fantasmas) e o método ***getAction()*** que vai devolver a acção em cada momento.\n",
    "\n",
    "```python\n",
    "class Agent:\n",
    "    \"\"\"\n",
    "    An agent must define a getAction method, but may also define the\n",
    "    following methods which will be called if they exist:\n",
    "\n",
    "    def registerInitialState(self, state): # inspects the starting state\n",
    "    \"\"\"\n",
    "\n",
    "    def __init__(self, index=0):\n",
    "        self.index = index\n",
    "\n",
    "    def getAction(self, state):\n",
    "        \"\"\"\n",
    "        The Agent will receive a GameState and must return an action from Directions.{North, South, East, West, Stop}\n",
    "        \"\"\"\n",
    "        raiseNotDefined()\n",
    "        \n",
    "    def myName(self):\n",
    "        \"\"\"O identificador que aparece no ficheiro que memoriza um jogo\n",
    "        quando um objecto desta classe joga\"\"\"\n",
    "        return self.__class__.__name__\n",
    "```"
   ]
  },
  {
   "cell_type": "markdown",
   "metadata": {},
   "source": [
    "## A Classe RandomPac (subclasse de Agent)\n",
    "O Pacman ao acaso escolhe uma das acções possíveis com igual probabilidade.\n",
    "\n",
    "```python\n",
    "class RandomPac(Agent):\n",
    "    \"\"\" A pacman that chooses its actions in a random way\"\"\"\n",
    "    \n",
    "    def getAction(self, state):\n",
    "        # Generate candidate actions\n",
    "        legal = state.getLegalPacmanActions()\n",
    "        return random.choice(legal)\n",
    "```"
   ]
  },
  {
   "cell_type": "markdown",
   "metadata": {},
   "source": [
    "## A Classe RandomGhost\n",
    "Um **GhostAgent** decide a sua acção ao acaso\n",
    "\n",
    "```python\n",
    "class RandomGhost(Agent):\n",
    "    \"\"\" A ghost that chooses its actions in a random way\"\"\"\n",
    "    \n",
    "    def getAction(self, state):\n",
    "        # Generate candidate actions\n",
    "        legal = state.getLegalActions(self.index)\n",
    "        return random.choice(legal)\n",
    "```"
   ]
  },
  {
   "cell_type": "markdown",
   "metadata": {},
   "source": [
    "## Jogadores que usam o alfabeta\n",
    "\n",
    "### Pacman que maximiza o score contra fantasma ao acaso\n",
    "O jogador Pacman que utiliza a variante alfabeta do minimax tem de ser invocado com a opção -p igual a **AlphaBetaAgent** e depois na opção -a vão os dois parâmetros: a profundidade e a função de avaliação. Notem que é também necessário invocar a opção -k 1, para que o jogador Ghost controle apenas um fantasma. Atenção que os jogadores alfabeta não funcionarão correctamente com mais do que um fantasma.\n",
    "\n",
    "Vejemos o exemplo de um jogo entre o Pacman alfabeta à profundidade 2 que utiliza a pontuação como função de avaliação contra um fantasma que joga completamente ao acaso. A função de avaliação que pega num estado avalia esse estado em função do Pacman é ***so_score()***. "
   ]
  },
  {
   "cell_type": "code",
   "execution_count": 164,
   "metadata": {},
   "outputs": [
    {
     "name": "stdout",
     "output_type": "stream",
     "text": [
      "Lets decide with Extra do Pac <function extra_mem at 0x000002A1A234EF28>\n",
      "Current extra: {'Pacman': [(9, 1)], 'Ghosts': [(8, 5)]}\n",
      "Well, I am inside alphabeta and i am going to apply... <function extra_mem at 0x000002A1A234EF28>\n",
      "I have a new extra in my mind {'Pacman': [(9, 1), (9, 1)], 'Ghosts': [(9.0, 5.0), (8, 5)]}\n",
      "I have a new extra in my mind {'Pacman': [(10, 1), (9, 1)], 'Ghosts': [(9.0, 5.0), (8, 5)]}\n",
      "I have a new extra in my mind {'Pacman': [(8, 1), (9, 1)], 'Ghosts': [(9.0, 5.0), (8, 5)]}\n",
      "Lets decide with Extra do Pac <function extra_mem at 0x000002A1A234EF28>\n",
      "Current extra: {'Pacman': [(10, 1), (9, 1)], 'Ghosts': [(9.0, 5.0), (8, 5)]}\n",
      "Well, I am inside alphabeta and i am going to apply... <function extra_mem at 0x000002A1A234EF28>\n",
      "I have a new extra in my mind {'Pacman': [(9, 1), (10, 1), (9, 1)], 'Ghosts': [(10.0, 5.0), (9.0, 5.0), (8, 5)]}\n",
      "I have a new extra in my mind {'Pacman': [(9, 1), (10, 1), (9, 1)], 'Ghosts': [(9.0, 6.0), (9.0, 5.0), (8, 5)]}\n",
      "I have a new extra in my mind {'Pacman': [(11, 1), (10, 1), (9, 1)], 'Ghosts': [(10.0, 5.0), (9.0, 5.0), (8, 5)]}\n",
      "I have a new extra in my mind {'Pacman': [(11, 1), (10, 1), (9, 1)], 'Ghosts': [(9.0, 6.0), (9.0, 5.0), (8, 5)]}\n",
      "I have a new extra in my mind {'Pacman': [(10, 1), (10, 1), (9, 1)], 'Ghosts': [(10.0, 5.0), (9.0, 5.0), (8, 5)]}\n",
      "Pacman emerges victorious! Score: 18\n",
      "Average Score: 18.0\n",
      "Scores:        18.0\n",
      "Win Rate:      1/1 (1.00)\n",
      "Record:        Win\n"
     ]
    }
   ],
   "source": [
    "! python pacman.py  -y 2 -p AlphaBetaAgent -a depth=2,evalFn=so_score,extraFn=extra_mem --frameTime 0 -k 1 -l mediumClassic  "
   ]
  },
  {
   "cell_type": "markdown",
   "metadata": {},
   "source": [
    "### Fantasma que maximiza o simétrico do score contra Pacman aleatório\n",
    "O jogador Fantasma que utiliza a variante alfabeta do minimax tem de ser invocado com a opção -g igual a **AlphaBetaGhost** e a opção -b encarrega-se de passar os dois parâmetros importantes: a profundidade e a função de avaliação. Vamos usar também a profundidade 2. A função de avaliação que pega num estado avalia esse estado em função do Ghost é ***anti_score()***"
   ]
  },
  {
   "cell_type": "code",
   "execution_count": 191,
   "metadata": {},
   "outputs": [
    {
     "name": "stdout",
     "output_type": "stream",
     "text": [
      "Jogada dupla: 1\n",
      "Lets decide with Extra do Ghost <function identity at 0x0000020CD40D7F28>\n",
      "Current extra: {}\n",
      "Well, I am inside alphabeta and i am going to apply... <function identity at 0x0000020CD40D7F28>\n",
      "Pacman emerges victorious! Score: 9\n",
      "Average Score: 9.0\n",
      "Scores:        9.0\n",
      "Win Rate:      1/1 (1.00)\n",
      "Record:        Win\n"
     ]
    }
   ],
   "source": [
    "! python pacman.py -y 1  -g AlphaBetaGhost -b depth=2,evalFn=anti_score -p RandomPac --frameTime 2 -k 1 -l mediumClassic  "
   ]
  },
  {
   "cell_type": "markdown",
   "metadata": {},
   "source": [
    "### ...agora contra Pacman que maximiza score"
   ]
  },
  {
   "cell_type": "code",
   "execution_count": 189,
   "metadata": {},
   "outputs": [
    {
     "name": "stdout",
     "output_type": "stream",
     "text": [
      "Jogada dupla: 3\n",
      "Lets decide with Extra do Ghost <function extra_memG at 0x000002626456E0D0>\n",
      "Current extra: {'Pacman': [(10, 1)], 'Ghosts': []}\n",
      "Well, I am inside alphabeta and i am going to apply... <function extra_memG at 0x000002626456E0D0>\n",
      "Jogada dupla: 2\n",
      "Lets decide with Extra do Ghost <function extra_memG at 0x000002626456E0D0>\n",
      "Current extra: {'Pacman': [(11, 1), (10, 1)], 'Ghosts': [(9.0, 5.0)]}\n",
      "Well, I am inside alphabeta and i am going to apply... <function extra_memG at 0x000002626456E0D0>\n",
      "Ghosts is thinking and there are still 2\n",
      "but Ghosts is moving\n",
      "Ghosts is thinking and there are still 1\n",
      "but Pacman is moving\n",
      "I have a new extra in my mind {'Pacman': [(10, 1), (11, 1), (10, 1)], 'Ghosts': [(9.0, 6.0), (9.0, 5.0)]}\n",
      "Ghosts is thinking and there are still 1\n",
      "but Pacman is moving\n",
      "I have a new extra in my mind {'Pacman': [(11, 1), (11, 1), (10, 1)], 'Ghosts': [(9.0, 6.0), (9.0, 5.0)]}\n",
      "Ghosts is thinking and there are still 1\n",
      "but Pacman is moving\n",
      "I have a new extra in my mind {'Pacman': [(12, 1), (11, 1), (10, 1)], 'Ghosts': [(9.0, 6.0), (9.0, 5.0)]}\n",
      "Ghosts is thinking and there are still 2\n",
      "but Ghosts is moving\n",
      "Ghosts is thinking and there are still 1\n",
      "but Pacman is moving\n",
      "I have a new extra in my mind {'Pacman': [(10, 1), (11, 1), (10, 1)], 'Ghosts': [(10.0, 5.0), (9.0, 5.0)]}\n",
      "Ghosts is thinking and there are still 1\n",
      "but Pacman is moving\n",
      "I have a new extra in my mind {'Pacman': [(11, 1), (11, 1), (10, 1)], 'Ghosts': [(10.0, 5.0), (9.0, 5.0)]}\n",
      "Ghosts is thinking and there are still 1\n",
      "but Pacman is moving\n",
      "I have a new extra in my mind {'Pacman': [(12, 1), (11, 1), (10, 1)], 'Ghosts': [(10.0, 5.0), (9.0, 5.0)]}\n",
      "Jogada dupla: 1\n",
      "Lets decide with Extra do Ghost <function extra_memG at 0x000002626456E0D0>\n",
      "Current extra: {'Pacman': [(11, 1), (11, 1), (10, 1)], 'Ghosts': [(9.0, 6.0), (9.0, 5.0)]}\n",
      "Well, I am inside alphabeta and i am going to apply... <function extra_memG at 0x000002626456E0D0>\n",
      "Ghosts is thinking and there are still 1\n",
      "but Ghosts is moving\n",
      "Ghosts is thinking and there are still 1\n",
      "but Ghosts is moving\n",
      "Pacman emerges victorious! Score: 17\n",
      "Average Score: 17.0\n",
      "Scores:        17.0\n",
      "Win Rate:      1/1 (1.00)\n",
      "Record:        Win\n"
     ]
    }
   ],
   "source": [
    "! python pacman.py  -y 3 -g AlphaBetaGhost -b depth=2,evalFn=anti_score,extraFn=extra_memG -p RandomPac --frameTime 1 -k 1 -l mediumClassic  "
   ]
  },
  {
   "cell_type": "markdown",
   "metadata": {},
   "source": [
    "Notem que quando não há pastilhas para comer à profundidade desejada, o score é o mesmo para todas as folhas da árvore de procura, o Pacman funciona como um jogador aleatório. Mas, se o fantasma se aproximar, até lhe dá uma ajudinha. Deixa de andar às voltas, porque começa a fugir e a comer as pastilhas, se estiverem ao seu alcance."
   ]
  },
  {
   "cell_type": "markdown",
   "metadata": {},
   "source": [
    "## A classe MultiAgentSearchAgent\n",
    "Todos os agentes que usam o minimax alfabeta são subclasses da classe **MultiAgentSearchAgent**, no ficheiro *MultiAgents.py*. Por omissão a função de avaliação é a **so_score()** e a profundidade é 2.\n",
    "\n",
    "```python\n",
    "class MultiAgentSearchAgent(Agent):\n",
    "    \"\"\"\n",
    "    This class provides the constructor with additional two attributes: depth and evaluationFunction, and a default name to \n",
    "    every subclass\n",
    "    \"\"\"\n",
    "    def __init__(self, evalFn = 'so_score', depth = '2'):\n",
    "        self.index = 0 # Pacman is always agent index 0\n",
    "        self.evaluationFunction = util.lookup(evalFn, globals())\n",
    "        self.depth = int(depth)\n",
    "        \n",
    "    def myName(self):\n",
    "        #return self.__class__.__name__ + self.evaluationFunction.__name__\n",
    "        return self.evaluationFunction.__name__\n",
    "```"
   ]
  },
  {
   "cell_type": "markdown",
   "metadata": {},
   "source": [
    "## A classe AlphaBetaAgent\n",
    "Esta é a classe de todos os Pacmans que usam o alfabeta. É uma subclasse da classe anterior e por isso o limite da profundidade e a função de avaliação estão guardadas nos atributos herdados.\n",
    "\n",
    "```python\n",
    "class AlphaBetaAgent(MultiAgentSearchAgent):\n",
    "    \"\"\"\n",
    "    The alpha-beta pruning Pacman (question 3)\n",
    "    \"\"\"\n",
    "\n",
    "    def getAction(self, gameState):\n",
    "        \"\"\"\n",
    "        Returns the minimax action using self.depth and self.evaluationFunction\n",
    "        \"\"\"\n",
    "        currentState = ClassicPac(to_move=\"Pacman\",board=gameState)\n",
    "        thisGame = ClassicPacman(currentState)\n",
    "        #print(\"UAU. here goes alpha beta\")\n",
    "        return alphabeta_cutoff_search(currentState, thisGame, d=self.depth, eval_fn=self.evaluationFunction)\n",
    "    ```"
   ]
  },
  {
   "cell_type": "markdown",
   "metadata": {},
   "source": [
    "## A função de avaliação so_score\n",
    "Esta é a função de avaliação que devolve o score do jogo e que é usada pelo Pacman: ele gosta de maximizar o seu score.\n",
    "Notem que as funções de avaliação recebem sempre um estado do jogo e um jogador.\n",
    "\n",
    "```python\n",
    "def so_score(gState,player):\n",
    "    return gState.board.getScore()\n",
    "```"
   ]
  },
  {
   "cell_type": "markdown",
   "metadata": {},
   "source": [
    "## A classe AlphaBetaGhost\n",
    "Esta é a classe de todos os fantasmas que utilizam o minimax alfabeta.\n",
    "```python\n",
    "class AlphaBetaGhost(MultiAgentSearchAgent):\n",
    "    \"\"\"\n",
    "    Your minimax ghost with alpha-beta pruning \n",
    "    \"\"\"\n",
    "\n",
    "    def getAction(self, gameState):\n",
    "        \"\"\"\n",
    "        Returns the alfabeta action using self.depth and self.evaluationFunction\n",
    "        \"\"\"      \n",
    "        currentState = ClassicPac(to_move=\"Ghost\",board=gameState)\n",
    "        thisGame = ClassicPacman(currentState)\n",
    "        #print(\"UAU. here goes alpha beta\")\n",
    "        return alphabeta_cutoff_search(currentState, thisGame, d=self.depth, eval_fn=anti_score)\n",
    "```"
   ]
  },
  {
   "cell_type": "markdown",
   "metadata": {},
   "source": [
    "## A função de avaliação anti_score\n",
    "Esta função é para o fantasma: ele pretende maximizar o simétrico da pontuação do jogo.\n",
    "\n",
    "```python\n",
    "def anti_score(gState,player):\n",
    "    return -gState.board.getScore()\n",
    "```"
   ]
  },
  {
   "cell_type": "markdown",
   "metadata": {},
   "source": [
    "## Melhorando a função de avaliação: a função scooore\n",
    "Vamos melhorar o desempenho do nosso Pacman. Ele prefere aumentar o seu score mas também gosta de se aproximar da pastilha mais próxima. Notem que ele não calcula a distância real, mas usa uma estimativa da distância, a nossa conhecida distância de manhatan.\n",
    "Vamos fazer um jogo entre o ***anti_score*** e o ***scooore***."
   ]
  },
  {
   "cell_type": "code",
   "execution_count": 4,
   "metadata": {},
   "outputs": [
    {
     "name": "stdout",
     "output_type": "stream",
     "text": [
      "Pacman emerges victorious! Score: 2523\n",
      "Ending graphics raised an exception: 0\n",
      "Average Score: 2523.0\n",
      "Scores:        2523.0\n",
      "Win Rate:      1/1 (1.00)\n",
      "Record:        Win\n"
     ]
    }
   ],
   "source": [
    "! python pacman.py -g AlphaBetaGhost -b depth=8,evalFn=anti_score -p AlphaBetaAgent -a depth=8,evalFn=scooore --frameTime 0 -k 1 -l originalClassic"
   ]
  },
  {
   "cell_type": "markdown",
   "metadata": {},
   "source": [
    "## Função de avaliação scooore\n",
    "\n",
    "```python\n",
    "\n",
    "def manhatanDist(p1,p2):\n",
    "        p1x,p1y=p1\n",
    "        p2x,p2y=p2\n",
    "        return abs(p1x-p2x)+abs(p1y-p2y)\n",
    "    \n",
    "    \n",
    "def scooore(gState,player):\n",
    "    foodList = gState.board.getFood().asList()\n",
    "    minDistance = 0\n",
    "    # Compute distance to the nearest food\n",
    "    if len(foodList) > 0: # This should always be True,  but better safe than sorry\n",
    "        myPos = gState.board.getPacmanPosition()\n",
    "        \n",
    "        minDistance = min([manhatanDist(myPos, food) for food in foodList])\n",
    "    return gState.board.getScore() * 100 - minDistance\n",
    "```\n"
   ]
  },
  {
   "cell_type": "markdown",
   "metadata": {},
   "source": [
    "## Grupos\n",
    "Os grupos para o projecto são formados por no máximo 3 alunos. Recomendamos a formação de grupos de 3 mas não impedimos que hajam grupos de dois elementos ou até alunos a solo."
   ]
  },
  {
   "cell_type": "markdown",
   "metadata": {},
   "source": [
    "## Submissão do projecto\n",
    "Coloquem na pasta projIIA_X, em que X é o identificador do grupo, um ficheiro projIIA_X.py com as duas funções pac_X e fant_X e um pequeno report a explicar o que fazem as duas dunções de avaliação. Zipem essa pasta para projIIA_X.sip e submetam esse ficheiro."
   ]
  },
  {
   "cell_type": "markdown",
   "metadata": {},
   "source": [
    "## Alterações\n",
    "\n",
    "### Já feitas:\n",
    "o limite do cutoff estava errado\n",
    "quando há apenas uma acção: optimizar\n",
    "Jogadas duplas por realizar ainda...\n",
    "\n",
    "### Depois são as alterações devido ao extra...\n",
    "Posso passar mais um argumento para Pacman e para o fantasma, mais o extra e gerar um novo extra... Será que precisamos disso tudo????? Não sei à partida do que precisam eles e por isso fica em aberto...\n",
    "Tenho só de passar um novo argumento na linha de comandos em cada um dos jogadores... easy\n",
    "Os alunos terão então apenas de fazer uma função a mais para o pacman e o fantasma. Pode ser pac_extra_X e ghost_extra_X.\n",
    "\n",
    "### Tenho ainda de testar isto\n",
    "\n",
    "Depois só falta\n",
    "\n",
    "### A* e o registo das distâncias mais próximas....\n",
    "para o fim do dia...\n",
    "Merda....\n",
    "\n",
    "### e a actualização do guião....\n",
    "\n",
    "### e limpar os prints"
   ]
  },
  {
   "cell_type": "code",
   "execution_count": null,
   "metadata": {},
   "outputs": [],
   "source": []
  }
 ],
 "metadata": {
  "kernelspec": {
   "display_name": "Python 3",
   "language": "python",
   "name": "python3"
  },
  "language_info": {
   "codemirror_mode": {
    "name": "ipython",
    "version": 3
   },
   "file_extension": ".py",
   "mimetype": "text/x-python",
   "name": "python",
   "nbconvert_exporter": "python",
   "pygments_lexer": "ipython3",
   "version": "3.7.0"
  }
 },
 "nbformat": 4,
 "nbformat_minor": 2
}
